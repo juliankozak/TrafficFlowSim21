{
 "cells": [
  {
   "cell_type": "code",
   "execution_count": 1,
   "metadata": {},
   "outputs": [],
   "source": [
    "import os\n",
    "import numpy as np\n",
    "import matplotlib.pyplot as plt"
   ]
  },
  {
   "cell_type": "code",
   "execution_count": 2,
   "metadata": {},
   "outputs": [],
   "source": [
    "experiment = \"f\""
   ]
  },
  {
   "cell_type": "code",
   "execution_count": 3,
   "metadata": {},
   "outputs": [],
   "source": [
    "filepath = os.path.join(\"input_data\", experiment+\".txt\")\n",
    "f = open(filepath)"
   ]
  },
  {
   "cell_type": "code",
   "execution_count": 4,
   "metadata": {},
   "outputs": [
    {
     "name": "stdout",
     "output_type": "stream",
     "text": [
      "D=1992, I=1662, S=10000, V=1000, F=500\n"
     ]
    }
   ],
   "source": [
    "first_line = f.readline()\n",
    "vals = first_line.split(\" \")\n",
    "D = int(vals[0])\n",
    "I = int(vals[1])\n",
    "S = int(vals[2])\n",
    "V = int(vals[3])\n",
    "F = int(vals[4])\n",
    "print(\"D={}, I={}, S={}, V={}, F={}\".format(D,I,S,V,F))"
   ]
  },
  {
   "cell_type": "code",
   "execution_count": 5,
   "metadata": {},
   "outputs": [],
   "source": [
    "# Create mapping streetname to id {\"streetname\": id}\n",
    "mapping_streetnames = {}\n",
    "inverse_mapping = []\n",
    "i = 0;\n",
    "while i < S:\n",
    "    l = f.readline()\n",
    "    vals = l.split(\" \")\n",
    "    B = int(vals[0])     # intersection beginning of the street\n",
    "    E = int(vals[1])     # intersection end of the street\n",
    "    name = vals[2]       # street name\n",
    "    L = int(vals [3]) \n",
    "    mapping_streetnames[name] = i\n",
    "    inverse_mapping.append(name)\n",
    "    i += 1\n",
    " \n",
    "\n"
   ]
  },
  {
   "cell_type": "code",
   "execution_count": 6,
   "metadata": {},
   "outputs": [],
   "source": [
    "# Create ranking how many times a street is part of a path.\n",
    "ranking = np.zeros(S)\n",
    "\n",
    "for j in range(V):\n",
    "    l = f.readline()\n",
    "    vals = l.split(\"\\n\")[0].split(\" \")\n",
    "    for i in range(1,int(vals[0])): # do not consider last street because last intersection isn't travelled through\n",
    "        street_on_path = vals[i]\n",
    "        ranking[mapping_streetnames[street_on_path]] += 1\n",
    "        \n",
    "    "
   ]
  },
  {
   "cell_type": "code",
   "execution_count": 7,
   "metadata": {},
   "outputs": [],
   "source": [
    "#print(ranking)\n",
    "#print(mapping_streetnames)\n",
    "#print(inverse_mapping)"
   ]
  },
  {
   "cell_type": "code",
   "execution_count": 8,
   "metadata": {},
   "outputs": [],
   "source": [
    "# save intersection ranking to csv file\n",
    "with open(os.path.join(\"analysis\", experiment+\"_streets_stats.csv\"), \"w\") as f:\n",
    "    f.write(\"Street id ; Street name; number of cars driving along the street \\n\")\n",
    "    for i in range(len(ranking)):\n",
    "        f.write(\"{};{};{}\\n\".format(i, inverse_mapping[i], ranking[i]))\n"
   ]
  },
  {
   "cell_type": "code",
   "execution_count": 9,
   "metadata": {},
   "outputs": [
    {
     "data": {
      "image/png": "[encoded data removed]",
      "text/plain": [
       "<Figure size 864x720 with 1 Axes>"
      ]
     },
     "metadata": {
      "needs_background": "light"
     },
     "output_type": "display_data"
    }
   ],
   "source": [
    "# create histogram\n",
    "fig = plt.figure(figsize=(12, 10))\n",
    "plt.hist(ranking)\n",
    "plt.title(\"Experiment \" + experiment)\n",
    "plt.xlabel(\"Number of cars driving along the street\")\n",
    "plt.ylabel(\"Occurences during experiment\")\n",
    "#plt.show()\n",
    "plt.savefig(os.path.join(\"analysis\", experiment+\"_streets_stats.png\"))\n"
   ]
  },
  {
   "cell_type": "code",
   "execution_count": null,
   "metadata": {},
   "outputs": [],
   "source": []
  }
 ],
 "metadata": {
  "kernelspec": {
   "display_name": "Python 3",
   "language": "python",
   "name": "python3"
  },
  "language_info": {
   "codemirror_mode": {
    "name": "ipython",
    "version": 3
   },
   "file_extension": ".py",
   "mimetype": "text/x-python",
   "name": "python",
   "nbconvert_exporter": "python",
   "pygments_lexer": "ipython3",
   "version": "3.8.5"
  }
 },
 "nbformat": 4,
 "nbformat_minor": 4
}
