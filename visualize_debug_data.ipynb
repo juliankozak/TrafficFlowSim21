{
 "cells": [
  {
   "cell_type": "code",
   "execution_count": 29,
   "metadata": {},
   "outputs": [],
   "source": [
    "import numpy as np\n",
    "import pickle\n",
    "import matplotlib.pyplot as plt\n"
   ]
  },
  {
   "cell_type": "code",
   "execution_count": 4,
   "metadata": {},
   "outputs": [],
   "source": [
    "file = \"debug_data/q_avg_2021-03-03 21-54-17.pck\"\n",
    "q_avg = pickle.load(open(file, 'rb'))"
   ]
  },
  {
   "cell_type": "code",
   "execution_count": 28,
   "metadata": {},
   "outputs": [
    {
     "name": "stdout",
     "output_type": "stream",
     "text": [
      "average number of incoming streets:  9.713134454969603\n",
      "minimum:  0.0\n",
      "maximum:  10.0\n",
      "number of 0.0:  1\n"
     ]
    }
   ],
   "source": [
    "# average number of incoming streets\n",
    "\n",
    "n_in_streets = np.zeros(q_avg.shape[0])\n",
    "\n",
    "for i in range(q_avg.shape[0]):\n",
    "    n_in_streets[i] = np.count_nonzero(np.isnan(q_avg[i,:]))\n",
    "\n",
    "\n",
    "print(\"average number of incoming streets: \", np.mean(n_in_streets))\n",
    "print(\"minimum: \", np.min(n_in_streets))\n",
    "print(\"maximum: \", np.max(n_in_streets))\n",
    "\n",
    "print(\"number of 0.0: \", n_in_streets.shape[0]-np.count_nonzero(n_in_streets))\n",
    "\n"
   ]
  },
  {
   "cell_type": "code",
   "execution_count": 30,
   "metadata": {},
   "outputs": [
    {
     "data": {
      "image/png": "[encoded data removed]",
      "text/plain": [
       "<Figure size 432x288 with 1 Axes>"
      ]
     },
     "metadata": {
      "needs_background": "light"
     },
     "output_type": "display_data"
    }
   ],
   "source": [
    "plt.hist(n_in_streets)\n",
    "plt.show()"
   ]
  },
  {
   "cell_type": "code",
   "execution_count": null,
   "metadata": {},
   "outputs": [],
   "source": []
  }
 ],
 "metadata": {
  "kernelspec": {
   "display_name": "Python 3",
   "language": "python",
   "name": "python3"
  },
  "language_info": {
   "codemirror_mode": {
    "name": "ipython",
    "version": 3
   },
   "file_extension": ".py",
   "mimetype": "text/x-python",
   "name": "python",
   "nbconvert_exporter": "python",
   "pygments_lexer": "ipython3",
   "version": "3.8.5"
  }
 },
 "nbformat": 4,
 "nbformat_minor": 4
}
