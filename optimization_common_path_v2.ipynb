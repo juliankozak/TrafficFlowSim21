{
 "cells": [
  {
   "cell_type": "code",
   "execution_count": 1,
   "metadata": {},
   "outputs": [],
   "source": [
    "import os\n",
    "import numpy as np\n",
    "import matplotlib.pyplot as plt"
   ]
  },
  {
   "cell_type": "code",
   "execution_count": 2,
   "metadata": {},
   "outputs": [],
   "source": [
    "experiment = \"kaggle_hashcode\""
   ]
  },
  {
   "cell_type": "code",
   "execution_count": 3,
   "metadata": {},
   "outputs": [],
   "source": [
    "filepath = os.path.join(\"input_data\", experiment+\".txt\")\n",
    "f = open(filepath)"
   ]
  },
  {
   "cell_type": "code",
   "execution_count": 4,
   "metadata": {},
   "outputs": [
    {
     "name": "stdout",
     "output_type": "stream",
     "text": [
      "D=7071, I=8000, S=63968, V=1000, F=1000\n"
     ]
    }
   ],
   "source": [
    "first_line = f.readline()\n",
    "vals = first_line.split(\" \")\n",
    "D = int(vals[0])\n",
    "I = int(vals[1])\n",
    "S = int(vals[2])\n",
    "V = int(vals[3])\n",
    "F = int(vals[4])\n",
    "print(\"D={}, I={}, S={}, V={}, F={}\".format(D,I,S,V,F))"
   ]
  },
  {
   "cell_type": "code",
   "execution_count": 5,
   "metadata": {},
   "outputs": [],
   "source": [
    "# Create mapping streetname to id {\"streetname\": id}\n",
    "mapping_streetnames = {}\n",
    "inverse_mapping = []\n",
    "outgoing_streets = {}\n",
    "incoming_streets = {}\n",
    "street_connectors = {}\n",
    "street_durations = {}\n",
    "\n",
    "i = 0;\n",
    "while i < S:\n",
    "    l = f.readline()\n",
    "    vals = l.split(\" \")\n",
    "    B = int(vals[0])     # intersection beginning of the street\n",
    "    E = int(vals[1])     # intersection end of the street\n",
    "    name = vals[2]       # street name\n",
    "    L = int(vals [3]) \n",
    "    mapping_streetnames[name] = i\n",
    "    inverse_mapping.append(name)\n",
    "    \n",
    "    try:\n",
    "        streets = outgoing_streets[B]\n",
    "        streets.append(name)\n",
    "        outgoing_streets[B] = streets\n",
    "    except:\n",
    "        # key Error\n",
    "        outgoing_streets[B] = [name]\n",
    "    \n",
    "    try:\n",
    "        streets = incoming_streets[E]\n",
    "        streets.append(name)\n",
    "        incoming_streets[E] = streets\n",
    "    except:\n",
    "        # key Error\n",
    "        incoming_streets[E] = [name]\n",
    "    \n",
    "    street_connectors[name] = {\"B\": B, \"E\": E}\n",
    "    street_durations[name] = L\n",
    "    i += 1\n",
    " \n",
    "#print(outgoing_streets)\n",
    "#print(incoming_streets)\n",
    "\n"
   ]
  },
  {
   "cell_type": "code",
   "execution_count": 7,
   "metadata": {},
   "outputs": [],
   "source": [
    "#print(mapping_streetnames)\n",
    "#print(inverse_mapping)"
   ]
  },
  {
   "cell_type": "code",
   "execution_count": 8,
   "metadata": {},
   "outputs": [],
   "source": [
    "# Create ranking how many times a street is part of a path.\n",
    "ranking = np.zeros(S)\n",
    "\n",
    "for j in range(V):\n",
    "    l = f.readline()\n",
    "    vals = l.split(\"\\n\")[0].split(\" \")\n",
    "    for i in range(1,int(vals[0])): # do not consider last street because last intersection isn't travelled through\n",
    "        street_on_path = vals[i]\n",
    "        ranking[mapping_streetnames[street_on_path]] += 1\n",
    "        \n",
    "    "
   ]
  },
  {
   "cell_type": "code",
   "execution_count": 9,
   "metadata": {},
   "outputs": [
    {
     "name": "stdout",
     "output_type": "stream",
     "text": [
      "10.0\n"
     ]
    }
   ],
   "source": [
    "print(max(ranking))"
   ]
  },
  {
   "cell_type": "code",
   "execution_count": 10,
   "metadata": {},
   "outputs": [
    {
     "name": "stdout",
     "output_type": "stream",
     "text": [
      "min:0.0\n",
      "max:10.0\n",
      "threshold: 2.0\n"
     ]
    }
   ],
   "source": [
    "threshold = np.median(ranking)\n",
    "print(\"min:{}\".format(np.min(ranking)))\n",
    "print(\"max:{}\".format(np.max(ranking)))\n",
    "print(\"threshold: {}\".format(threshold))"
   ]
  },
  {
   "cell_type": "code",
   "execution_count": 11,
   "metadata": {},
   "outputs": [],
   "source": [
    "common_streets = []\n",
    "for i in range(len(ranking)):\n",
    "    if ranking[i] > threshold:\n",
    "        common_streets.append(inverse_mapping[i])\n",
    "#print(common_streets)\n",
    "        \n",
    "    "
   ]
  },
  {
   "cell_type": "code",
   "execution_count": 12,
   "metadata": {},
   "outputs": [],
   "source": [
    "def give_following_street(streetname):\n",
    "    \n",
    "    intersection_end = street_connectors[streetname][\"E\"]\n",
    "    \n",
    "    return outgoing_streets[intersection_end] #what happens if there is no street after the street?\n",
    "    \n",
    "def give_previous_street(streetname):\n",
    "    \n",
    "    intersection_begining = street_connectors[streetname][\"B\"]\n",
    "    \n",
    "    return incoming_streets[intersection_begining]"
   ]
  },
  {
   "cell_type": "code",
   "execution_count": 13,
   "metadata": {},
   "outputs": [],
   "source": [
    "def recursive_next_street(current_street):\n",
    "    following_streets = give_following_street(current_street)\n",
    "    for fs in following_streets:\n",
    "        if fs in common_streets:\n",
    "            # todo: take the street with the highest ranking instead of the first one\n",
    "            common_forward_path.append(fs)\n",
    "            common_streets.remove(fs)\n",
    "            recursive_next_street(fs)\n",
    "            break\n",
    "    return "
   ]
  },
  {
   "cell_type": "code",
   "execution_count": 14,
   "metadata": {},
   "outputs": [],
   "source": [
    "def recursive_previous_street(current_street):\n",
    "    previous_streets = give_previous_street(current_street)\n",
    "    for ps in previous_streets:\n",
    "        if ps in common_streets:\n",
    "            # todo\n",
    "            common_backwards_path.append(ps)\n",
    "            common_streets.remove(ps)\n",
    "            recursive_previous_street(ps)\n",
    "            break\n",
    "    return"
   ]
  },
  {
   "cell_type": "code",
   "execution_count": 15,
   "metadata": {},
   "outputs": [],
   "source": [
    "common_paths = [] #[[\"a\",\"b\",\"c\"], [\"d\",\"e\"]]\n",
    "\n",
    "while len(common_streets) > 0:\n",
    "    \n",
    "    # forward\n",
    "    street = common_streets[0]\n",
    "    common_forward_path = [street]\n",
    "    common_streets.remove(street)\n",
    "    recursive_next_street(street)\n",
    "    \n",
    "    # backward\n",
    "    common_backwards_path = []\n",
    "    recursive_previous_street(street)\n",
    "\n",
    "    # merge them\n",
    "    if(len(common_forward_path) == 1 and len(common_backwards_path) == 0):\n",
    "        continue\n",
    "    \n",
    "    new_path = []\n",
    "    for subpath in reversed(common_backwards_path):\n",
    "        new_path.append(subpath)\n",
    "    \n",
    "    \n",
    "    new_path += common_forward_path\n",
    "    \n",
    "    common_paths.append(new_path)\n",
    "\n",
    "  "
   ]
  },
  {
   "cell_type": "code",
   "execution_count": 19,
   "metadata": {},
   "outputs": [
    {
     "name": "stdout",
     "output_type": "stream",
     "text": [
      "1968\n"
     ]
    }
   ],
   "source": [
    "print(len(common_paths))"
   ]
  },
  {
   "cell_type": "code",
   "execution_count": 26,
   "metadata": {},
   "outputs": [
    {
     "name": "stdout",
     "output_type": "stream",
     "text": [
      "[474, 267, 219, 187, 108, 102, 98, 94, 94, 88, 88, 88, 88, 86, 81, 81, 77, 77, 77, 77, 74, 73, 71, 67, 65, 63, 63, 61, 61, 60, 60, 59, 58, 57, 57, 57, 56, 55, 55, 53, 52, 52, 52, 50, 48, 48, 47, 47, 47, 47, 46, 46, 45, 45, 45, 44, 44, 44, 44, 43, 42, 42, 42, 42, 42, 41, 40, 40, 39, 39, 39, 39, 37, 36, 36, 35, 35, 35, 35, 35, 35, 34, 33, 33, 33, 33, 32, 32, 32, 32, 32, 32, 32, 32, 31, 31, 31, 30, 30, 30]\n"
     ]
    },
    {
     "data": {
      "image/png": "[encoded data removed]",
      "text/plain": [
       "<Figure size 432x288 with 1 Axes>"
      ]
     },
     "metadata": {
      "needs_background": "light"
     },
     "output_type": "display_data"
    }
   ],
   "source": [
    "lengths = []\n",
    "for p in common_paths: \n",
    "    lengths.append(len(p))\n",
    "\n",
    "plt.figure()\n",
    "plt.hist(lengths)\n",
    "print(sorted(lengths, reverse=True)[:100])\n",
    "\n",
    "# Reasoning:\n",
    "# for kaggle dataset: length of the path always 120 -> common path with len 474 longer than path of any vehicle\n",
    "# that show why the optimization does not work\n",
    "# the common paths are much longer than any section of streets part of a vehicles route\n",
    "# the common paths are just connections of streets that were used by multiple cars (most of the time\n",
    "# just a few times compared to the simulation duration )\n"
   ]
  },
  {
   "cell_type": "code",
   "execution_count": null,
   "metadata": {},
   "outputs": [],
   "source": [
    "def sort_longest_paths(paths):\n",
    "    sorted_path = sorted(paths, key=len, reverse=True)\n",
    "    return sorted_path\n",
    "\n",
    "sorted_common_paths = sort_longest_paths(common_paths)\n",
    "print(len(sorted_common_paths[0]))\n",
    "print(len(sorted_common_paths[-1]))"
   ]
  },
  {
   "cell_type": "code",
   "execution_count": null,
   "metadata": {},
   "outputs": [],
   "source": [
    "\n",
    "#schedule = [\n",
    "#  [{\"is_1\":0}, {\"is_2\":0}], #Intersection 0  TUUUPLES!!\n",
    "#  [{\"is_1\":0}, {\"is_2\":0}], #Intersection 1\n",
    "#]\n",
    "\n",
    "schedule = []\n",
    "statistics_num_inc_streets = []\n",
    "for intersection_id in range(I):\n",
    "    is_schedule = []\n",
    "    \n",
    "    #todo: limit to the incoming streets where there is traffic\n",
    "    ##print(incoming_streets[intersection_id])\n",
    "    ##print(len(incoming_streets[intersection_id]))\n",
    "    for p in incoming_streets[intersection_id]:\n",
    "        is_schedule.append([ p, 0 ] )\n",
    "    statistics_num_inc_streets.append(len(incoming_streets[intersection_id]))\n",
    "    schedule.append(is_schedule)  \n",
    "    "
   ]
  },
  {
   "cell_type": "code",
   "execution_count": null,
   "metadata": {},
   "outputs": [],
   "source": [
    "#print(statistics_num_inc_streets)"
   ]
  },
  {
   "cell_type": "code",
   "execution_count": null,
   "metadata": {},
   "outputs": [],
   "source": [
    "count_can_optimize = 0\n",
    "count_need_extra_delay = 0\n",
    "\n",
    "for current_path in sorted_common_paths:\n",
    "    \n",
    "    #at T = 0, the car is at the end of the begining of the first street of the common path\n",
    "    #current_path = sorted_common_paths[0]\n",
    "\n",
    "    T = 0\n",
    "    t_accumulated = 0\n",
    "\n",
    "    debug_list_mod_int = []\n",
    "\n",
    "    for street in current_path:\n",
    "        t_accumulated += street_durations[street]\n",
    "\n",
    "        next_intersection_id = street_connectors[street][\"E\"]\n",
    "        debug_list_mod_int.append(next_intersection_id)\n",
    "\n",
    "        int_schedule = schedule[next_intersection_id]\n",
    "\n",
    "        #calculate desired position\n",
    "        desired_position = t_accumulated % len(int_schedule) # assuming schedule will only have one's\n",
    "\n",
    "        # try optimize schedule \n",
    "        considered_inc_street = street\n",
    "\n",
    "\n",
    "        current_position = None\n",
    "        for index_d, val in enumerate(int_schedule):\n",
    "            if val[0]==considered_inc_street:\n",
    "                current_position = index_d\n",
    "                break\n",
    "\n",
    "        optimization_possible = (int_schedule[desired_position][1] == 0)\n",
    "\n",
    "        extra_delay = 0\n",
    "\n",
    "        if optimization_possible:\n",
    "            ##print(\"We can optimize\")\n",
    "            ##print(\"original schedule: \", int_schedule)\n",
    "            # swap the tuple corresponding to the desired incoming street with the non optimal tuple with Ti=0\n",
    "\n",
    "            count_can_optimize += 1\n",
    "            \n",
    "            tmp_desired = [considered_inc_street, 1]    \n",
    "            tmp_swaped = int_schedule[desired_position]\n",
    "            int_schedule[current_position] = tmp_swaped\n",
    "            int_schedule[desired_position] = tmp_desired\n",
    "\n",
    "            #[{\"is_1\":0}, {\"is_2\":0}, {\"is_3\":0},{\"is_3\":0}]\n",
    "        else:\n",
    "            ##print(\"We cannot optimize\")\n",
    "            # calculate extra delay\n",
    "            count_need_extra_delay += 1 \n",
    "            extra_delay = abs(current_position - desired_position)\n",
    "            #print(\"extra_delay: \", extra_delay)\n",
    "\n",
    "        t_accumulated += extra_delay\n",
    "\n",
    "print(\"#can optimize: \", count_can_optimize)\n",
    "print(\"#need extra delay: \", count_need_extra_delay)"
   ]
  },
  {
   "cell_type": "code",
   "execution_count": null,
   "metadata": {},
   "outputs": [],
   "source": [
    "for s in schedule:\n",
    "    for e in s:\n",
    "        if e[-1] != 0:\n",
    "            print(s, \"\\n\")"
   ]
  },
  {
   "cell_type": "code",
   "execution_count": null,
   "metadata": {},
   "outputs": [],
   "source": [
    "for line in debug_list_mod_int:\n",
    "    print(schedule[line])"
   ]
  },
  {
   "cell_type": "code",
   "execution_count": null,
   "metadata": {},
   "outputs": [],
   "source": [
    "\n",
    "        \n",
    "    "
   ]
  },
  {
   "cell_type": "code",
   "execution_count": null,
   "metadata": {},
   "outputs": [],
   "source": [
    "filename =  \"generated_schedule/schedule_\" + experiment + \".txt\"\n",
    "\n",
    "with open(filename, 'w') as f:\n",
    "    f.write(\"{} \\n\".format(str(I))) # number of intersections with traffic light schedules\n",
    "\n",
    "    for int_id, s in enumerate(schedule):\n",
    "        lines = []\n",
    "        for entry in s:\n",
    "            #check if street has value > 0 in ranking\n",
    "            if ranking[mapping_streetnames[entry[0]]] > 0:\n",
    "                lines.append(\"{} {} \\n\".format(entry[0], 1))      # streetname Ti\n",
    "        if len(lines)>0:        \n",
    "            f.write(\"{} \\n\".format(str(int_id)))   # id\n",
    "            f.write(\"{} \\n\".format((str(len(lines)))))  # number of incoming streets with schedule\n",
    "            for l in lines:\n",
    "                f.write(l)      "
   ]
  },
  {
   "cell_type": "code",
   "execution_count": null,
   "metadata": {},
   "outputs": [],
   "source": [
    "filename =  \"generated_schedule/schedule_\" + experiment + \".txt\"\n",
    "\n",
    "lines = []\n",
    "intersection_counter = 0\n",
    "for int_id, s in enumerate(schedule):    \n",
    "    tmp = []\n",
    "    for entry in s:\n",
    "        #check if street has value > 0 in ranking\n",
    "        if ranking[mapping_streetnames[entry[0]]] > 0:\n",
    "            tmp.append(\"{} {} \\n\".format(entry[0], 1))      # streetname Ti\n",
    "    if len(tmp)>0:\n",
    "        intersection_counter += 1\n",
    "        lines.append(\"{} \\n\".format(str(int_id)))   # id\n",
    "        lines.append(\"{} \\n\".format((str(len(tmp)))))  # number of incoming streets with schedule\n",
    "        lines += tmp\n",
    "\n",
    "\n",
    "with open(filename, 'w') as f:\n",
    "    f.write(\"{} \\n\".format(str(intersection_counter))) # number of intersections with traffic light schedules\n",
    "    for l in lines:\n",
    "        f.write(l)  "
   ]
  },
  {
   "cell_type": "code",
   "execution_count": null,
   "metadata": {},
   "outputs": [],
   "source": []
  }
 ],
 "metadata": {
  "kernelspec": {
   "display_name": "Python 3",
   "language": "python",
   "name": "python3"
  },
  "language_info": {
   "codemirror_mode": {
    "name": "ipython",
    "version": 3
   },
   "file_extension": ".py",
   "mimetype": "text/x-python",
   "name": "python",
   "nbconvert_exporter": "python",
   "pygments_lexer": "ipython3",
   "version": "3.8.5"
  }
 },
 "nbformat": 4,
 "nbformat_minor": 4
}
