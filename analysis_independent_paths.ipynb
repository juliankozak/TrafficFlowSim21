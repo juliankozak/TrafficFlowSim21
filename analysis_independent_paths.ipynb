{
 "cells": [
  {
   "cell_type": "code",
   "execution_count": 1,
   "metadata": {},
   "outputs": [],
   "source": [
    "import os\n",
    "import numpy as np\n",
    "import matplotlib.pyplot as plt"
   ]
  },
  {
   "cell_type": "code",
   "execution_count": 2,
   "metadata": {},
   "outputs": [],
   "source": [
    "experiment = \"a\""
   ]
  },
  {
   "cell_type": "code",
   "execution_count": 3,
   "metadata": {},
   "outputs": [],
   "source": [
    "filepath = os.path.join(\"input_data\", experiment+\".txt\")\n",
    "f = open(filepath)"
   ]
  },
  {
   "cell_type": "code",
   "execution_count": 4,
   "metadata": {},
   "outputs": [
    {
     "name": "stdout",
     "output_type": "stream",
     "text": [
      "D=6, I=4, S=5, V=2, F=1000\n"
     ]
    }
   ],
   "source": [
    "first_line = f.readline()\n",
    "vals = first_line.split(\" \")\n",
    "D = int(vals[0])\n",
    "I = int(vals[1])\n",
    "S = int(vals[2])\n",
    "V = int(vals[3])\n",
    "F = int(vals[4])\n",
    "print(\"D={}, I={}, S={}, V={}, F={}\".format(D,I,S,V,F))"
   ]
  },
  {
   "cell_type": "code",
   "execution_count": 5,
   "metadata": {},
   "outputs": [],
   "source": [
    "# Create street map {\"streetname\": next_intersection}\n",
    "street_map = {}          \n",
    "for i in range(S):\n",
    "    l = f.readline()\n",
    "    vals = l.split(\" \")\n",
    "    B = int(vals[0])     # intersection beginning of the street\n",
    "    E = int(vals[1])     # intersection end of the street\n",
    "    name = vals[2]  # street name\n",
    "    L = int(vals [3]) \n",
    "    \n",
    "    street_map[name] = E\n",
    "    \n"
   ]
  },
  {
   "cell_type": "code",
   "execution_count": 6,
   "metadata": {},
   "outputs": [],
   "source": [
    "# Create ranking how many times an intersection is part of path. Row index corresponds to intersection id\n",
    "ranking = np.zeros(I)\n",
    "\n",
    "for j in range(V):\n",
    "    l = f.readline()\n",
    "    vals = l.split(\"\\n\")[0].split(\" \")\n",
    "    for i in range(1,int(vals[0])): # do not consider last street because last intersection isn't travelled through\n",
    "        street_on_path = vals[i]\n",
    "        ranking[street_map[street_on_path]] += 1\n",
    "        \n",
    "    "
   ]
  },
  {
   "cell_type": "code",
   "execution_count": 7,
   "metadata": {},
   "outputs": [
    {
     "name": "stdout",
     "output_type": "stream",
     "text": [
      "Experiment  a\n",
      " Total number of cars = 2\n",
      " Number of solo paths = 0\n",
      " -> Percentage of solo paths: 0.0 %\n"
     ]
    }
   ],
   "source": [
    "# Check if path only contains intersections that are passed one time\n",
    "\n",
    "f = open(filepath)\n",
    "\n",
    "for i in range(S+1): #skip part of file defining the streets\n",
    "    l = f.readline()\n",
    "    pass\n",
    "\n",
    "num_solo_paths = 0\n",
    "\n",
    "for j in range(V):\n",
    "    l = f.readline()\n",
    "    vals = l.split(\"\\n\")[0].split(\" \")\n",
    "    solo_path = True\n",
    "    \n",
    "    for k in range(1,int(vals[0])): # do not consider last street because last intersection isn't travelled through\n",
    "        street_on_path = vals[k]\n",
    "        \n",
    "        if ranking[street_map[street_on_path]] > 1:\n",
    "            solo_path = False\n",
    "            break\n",
    "            \n",
    "    if solo_path == True:\n",
    "        num_solo_paths += 1\n",
    "        # todo: save solo path\n",
    "\n",
    "print(\"Experiment \", experiment)\n",
    "print(\" Total number of cars = {}\".format(V))\n",
    "print(\" Number of solo paths = {}\".format(num_solo_paths))\n",
    "print(\" -> Percentage of solo paths: {} %\".format(num_solo_paths/V*100))\n",
    "        \n"
   ]
  },
  {
   "cell_type": "code",
   "execution_count": 8,
   "metadata": {},
   "outputs": [],
   "source": [
    "# save intersection ranking to csv file\n",
    "with open(os.path.join(\"analysis\", experiment+\"_intersection_stats.csv\"), \"w\") as f:\n",
    "    f.write(\"Intersection id ; number of passing cars \\n\")\n",
    "    for i in range(len(ranking)):\n",
    "        f.write(\"{} ; {} \\n\".format(i, ranking[i]))\n"
   ]
  },
  {
   "cell_type": "code",
   "execution_count": 9,
   "metadata": {},
   "outputs": [
    {
     "data": {
      "image/png": "[encoded data removed]",
      "text/plain": [
       "<Figure size 864x720 with 1 Axes>"
      ]
     },
     "metadata": {
      "needs_background": "light"
     },
     "output_type": "display_data"
    }
   ],
   "source": [
    "# create histogram\n",
    "fig = plt.figure(figsize=(12, 10))\n",
    "plt.hist(ranking)\n",
    "plt.title(\"Experiment \" + experiment)\n",
    "plt.xlabel(\"Number of cars passing the intersection\")\n",
    "plt.ylabel(\"Occurences during experiment\")\n",
    "#plt.show()\n",
    "plt.savefig(os.path.join(\"analysis\", experiment+\"_intersection_stats.png\"))\n"
   ]
  },
  {
   "cell_type": "code",
   "execution_count": null,
   "metadata": {},
   "outputs": [],
   "source": []
  }
 ],
 "metadata": {
  "kernelspec": {
   "display_name": "Python 3",
   "language": "python",
   "name": "python3"
  },
  "language_info": {
   "codemirror_mode": {
    "name": "ipython",
    "version": 3
   },
   "file_extension": ".py",
   "mimetype": "text/x-python",
   "name": "python",
   "nbconvert_exporter": "python",
   "pygments_lexer": "ipython3",
   "version": "3.8.5"
  }
 },
 "nbformat": 4,
 "nbformat_minor": 4
}
