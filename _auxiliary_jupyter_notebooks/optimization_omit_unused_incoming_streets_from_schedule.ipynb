{
 "cells": [
  {
   "cell_type": "code",
   "execution_count": 1,
   "metadata": {},
   "outputs": [],
   "source": [
    "import os\n",
    "import numpy as np\n",
    "import matplotlib.pyplot as plt"
   ]
  },
  {
   "cell_type": "code",
   "execution_count": 2,
   "metadata": {},
   "outputs": [],
   "source": [
    "experiment = \"kaggle_hashcode\""
   ]
  },
  {
   "cell_type": "code",
   "execution_count": 3,
   "metadata": {},
   "outputs": [],
   "source": [
    "filepath = os.path.join(\"input_data\", experiment+\".txt\")\n",
    "f = open(filepath)"
   ]
  },
  {
   "cell_type": "markdown",
   "metadata": {},
   "source": [
    "We need the incoming streets of each intersection\n",
    "\n",
    "We can mark the streets as used when they are part of a schedule\n",
    "\n",
    "We could count how many times they are part of a schedule and omit them, if they only play a very small role. \n",
    "\n",
    "{'intersection_id': {'incoming_street_1' : counter, \n",
    "                     'incoming_street_2' : counter} }\n",
    "\n",
    "routes: street-1  street-2  street-3  street-4\n",
    "                I1        I2        I3        \n",
    "\n",
    "we need the intersection at the end of street-1 -> I1\n",
    "\n",
    "use street_connector mapping, key \"E\"\n"
   ]
  },
  {
   "cell_type": "code",
   "execution_count": 4,
   "metadata": {},
   "outputs": [
    {
     "name": "stdout",
     "output_type": "stream",
     "text": [
      "D=7071, I=8000, S=63968, V=1000, F=1000\n"
     ]
    }
   ],
   "source": [
    "first_line = f.readline()\n",
    "vals = first_line.split(\" \")\n",
    "D = int(vals[0])\n",
    "I = int(vals[1])\n",
    "S = int(vals[2])\n",
    "V = int(vals[3])\n",
    "F = int(vals[4])\n",
    "print(\"D={}, I={}, S={}, V={}, F={}\".format(D,I,S,V,F))"
   ]
  },
  {
   "cell_type": "code",
   "execution_count": 5,
   "metadata": {},
   "outputs": [],
   "source": [
    "# Create mapping streetname to id {\"streetname\": id}\n",
    "mapping_streetnames = {}\n",
    "inverse_mapping = []\n",
    "outgoing_streets = {}\n",
    "incoming_streets = {}\n",
    "street_connectors = {}\n",
    "street_durations = {}\n",
    "\n",
    "i = 0;\n",
    "while i < S:\n",
    "    l = f.readline()\n",
    "    vals = l.split(\" \")\n",
    "    B = int(vals[0])     # intersection beginning of the street\n",
    "    E = int(vals[1])     # intersection end of the street\n",
    "    name = vals[2]       # street name\n",
    "    L = int(vals [3]) \n",
    "    mapping_streetnames[name] = i\n",
    "    inverse_mapping.append(name)\n",
    "    \n",
    "    try:\n",
    "        streets = outgoing_streets[B]\n",
    "        streets.append(name)\n",
    "        outgoing_streets[B] = streets\n",
    "    except:\n",
    "        # key Error\n",
    "        outgoing_streets[B] = [name]\n",
    "    \n",
    "    try:\n",
    "        streets = incoming_streets[E]\n",
    "        streets.append(name)\n",
    "        incoming_streets[E] = streets\n",
    "    except:\n",
    "        # key Error\n",
    "        incoming_streets[E] = [name]\n",
    "    \n",
    "    street_connectors[name] = {\"B\": B, \"E\": E}\n",
    "    street_durations[name] = L\n",
    "    i += 1\n"
   ]
  },
  {
   "cell_type": "code",
   "execution_count": 6,
   "metadata": {},
   "outputs": [],
   "source": [
    "# {'intersection_id':{'incoming_street_1' : counter, \n",
    "#                     'incoming_street_2' : counter\n",
    "#                    } \n",
    "# }\n",
    "\n",
    "I_map = {}\n",
    "\n",
    "def count_passing_car(intersection_id, incoming_street):\n",
    "    \n",
    "    if intersection_id in I_map.keys():\n",
    "        incoming_streets_dict = I_map[intersection_id]\n",
    "        \n",
    "        if incoming_street in incoming_streets_dict:\n",
    "            incoming_streets_dict[incoming_street] += 1\n",
    "        \n",
    "        else:\n",
    "            incoming_streets_dict[incoming_street] = 1\n",
    "        \n",
    "        I_map[intersection_id] = incoming_streets_dict\n",
    "    \n",
    "    else:\n",
    "        I_map[intersection_id] = {incoming_street : 1}\n",
    "    \n",
    "        "
   ]
  },
  {
   "cell_type": "code",
   "execution_count": 7,
   "metadata": {},
   "outputs": [],
   "source": [
    "for v in range(V): \n",
    "    l = f.readline()\n",
    "    vals = l.split(\"\\n\")[0].split(\" \")\n",
    "\n",
    "    for i in range(1,int(vals[0])): # ignore the intersection at the end of the last street\n",
    "        \n",
    "        street_on_path = vals[i]\n",
    "        next_intersection = street_connectors[street_on_path]['E']\n",
    "        count_passing_car(next_intersection, street_on_path)\n",
    "      \n",
    "        "
   ]
  },
  {
   "cell_type": "code",
   "execution_count": null,
   "metadata": {},
   "outputs": [],
   "source": []
  },
  {
   "cell_type": "code",
   "execution_count": 8,
   "metadata": {},
   "outputs": [
    {
     "name": "stdout",
     "output_type": "stream",
     "text": [
      "I:  8000\n",
      "Number of intersections: 7999\n"
     ]
    }
   ],
   "source": [
    "num_intersections = len(I_map.keys())\n",
    "print(\"I: \", I)\n",
    "print(\"Number of intersections: {}\".format(num_intersections))"
   ]
  },
  {
   "cell_type": "code",
   "execution_count": 12,
   "metadata": {},
   "outputs": [],
   "source": [
    "# write output file\n",
    "\n",
    "# number of intersection for which the schedule is defined\n",
    "# intersection id\n",
    "# number of incoming streets for which the schedule is defined\n",
    "# street-name duration\n",
    "\n",
    "all_intersections = I_map.keys()\n",
    "\n",
    "with open(os.path.join(\"generated_schedule\", experiment+\"_schedule_omit_incoming_streets.out\"), \"w\") as f:\n",
    "    \n",
    "    f.write(\"{}\\n\".format(len(all_intersections)))\n",
    "    \n",
    "    for intersection_id in all_intersections:\n",
    "        f.write(\"{}\\n\".format(intersection_id))\n",
    "        \n",
    "        streets = I_map[intersection_id].keys()\n",
    "        \n",
    "        f.write(\"{}\\n\".format(len(streets)))\n",
    "        \n",
    "        for street in streets:\n",
    "            f.write(\"{} {}\\n\".format(street, 1)) #fixed value of 1\n",
    "        \n"
   ]
  },
  {
   "cell_type": "code",
   "execution_count": null,
   "metadata": {},
   "outputs": [],
   "source": []
  }
 ],
 "metadata": {
  "kernelspec": {
   "display_name": "Python 3",
   "language": "python",
   "name": "python3"
  },
  "language_info": {
   "codemirror_mode": {
    "name": "ipython",
    "version": 3
   },
   "file_extension": ".py",
   "mimetype": "text/x-python",
   "name": "python",
   "nbconvert_exporter": "python",
   "pygments_lexer": "ipython3",
   "version": "3.8.5"
  }
 },
 "nbformat": 4,
 "nbformat_minor": 4
}
