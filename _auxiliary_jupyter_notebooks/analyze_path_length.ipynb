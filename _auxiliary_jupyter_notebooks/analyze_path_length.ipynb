{
 "cells": [
  {
   "cell_type": "code",
   "execution_count": 10,
   "metadata": {},
   "outputs": [],
   "source": [
    "import os\n",
    "import numpy as np\n",
    "import matplotlib.pyplot as plt"
   ]
  },
  {
   "cell_type": "code",
   "execution_count": 11,
   "metadata": {},
   "outputs": [],
   "source": [
    "experiment = \"kaggle_hashcode\""
   ]
  },
  {
   "cell_type": "code",
   "execution_count": 12,
   "metadata": {},
   "outputs": [],
   "source": [
    "filepath = os.path.join(\"input_data\", experiment+\".txt\")\n",
    "f = open(filepath)"
   ]
  },
  {
   "cell_type": "code",
   "execution_count": 13,
   "metadata": {},
   "outputs": [
    {
     "name": "stdout",
     "output_type": "stream",
     "text": [
      "D=7071, I=8000, S=63968, V=1000, F=1000\n"
     ]
    }
   ],
   "source": [
    "first_line = f.readline()\n",
    "vals = first_line.split(\" \")\n",
    "D = int(vals[0])\n",
    "I = int(vals[1])\n",
    "S = int(vals[2])\n",
    "V = int(vals[3])\n",
    "F = int(vals[4])\n",
    "print(\"D={}, I={}, S={}, V={}, F={}\".format(D,I,S,V,F))"
   ]
  },
  {
   "cell_type": "code",
   "execution_count": 14,
   "metadata": {},
   "outputs": [],
   "source": [
    "# Create street map {\"streetname\": next_intersection}\n",
    "street_map = {}          \n",
    "for i in range(S):\n",
    "    l = f.readline()\n",
    "    vals = l.split(\" \")\n",
    "    B = int(vals[0])     # intersection beginning of the street\n",
    "    E = int(vals[1])     # intersection end of the street\n",
    "    name = vals[2]  # street name\n",
    "    L = int(vals [3]) \n",
    "    \n",
    "    street_map[name] = E\n",
    "    \n"
   ]
  },
  {
   "cell_type": "code",
   "execution_count": 15,
   "metadata": {},
   "outputs": [],
   "source": [
    "# read paths\n",
    "path_lengths = []\n",
    "for v in range (V):\n",
    "    l = f.readline();\n",
    "    vals = l.split(\" \")\n",
    "    path_lengths.append(len(vals[1:]))\n",
    "    "
   ]
  },
  {
   "cell_type": "code",
   "execution_count": 19,
   "metadata": {},
   "outputs": [
    {
     "name": "stdout",
     "output_type": "stream",
     "text": [
      "Results\n",
      "min path length = 120\n",
      "max path length = 120\n",
      "avg path length = 120.0\n"
     ]
    }
   ],
   "source": [
    "print(\"Results\")\n",
    "print(\"min path length = {}\".format(min(path_lengths)))\n",
    "print(\"max path length = {}\".format(max(path_lengths)))\n",
    "print(\"avg path length = {}\".format(sum(path_lengths)/len(path_lengths)))"
   ]
  },
  {
   "cell_type": "code",
   "execution_count": null,
   "metadata": {},
   "outputs": [],
   "source": []
  }
 ],
 "metadata": {
  "kernelspec": {
   "display_name": "Python 3",
   "language": "python",
   "name": "python3"
  },
  "language_info": {
   "codemirror_mode": {
    "name": "ipython",
    "version": 3
   },
   "file_extension": ".py",
   "mimetype": "text/x-python",
   "name": "python",
   "nbconvert_exporter": "python",
   "pygments_lexer": "ipython3",
   "version": "3.8.5"
  }
 },
 "nbformat": 4,
 "nbformat_minor": 4
}
